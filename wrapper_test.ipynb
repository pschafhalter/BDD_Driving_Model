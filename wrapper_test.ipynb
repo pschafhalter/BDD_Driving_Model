{
 "cells": [
  {
   "cell_type": "code",
   "execution_count": null,
   "metadata": {
    "scrolled": false
   },
   "outputs": [],
   "source": [
    "import wrapper\n",
    "import tensorflow as tf\n",
    "from tensorflow.core.example import example_pb2\n",
    "from cStringIO import StringIO\n",
    "from PIL import Image\n",
    "from matplotlib.pyplot import imshow\n",
    "%matplotlib inline\n",
    "import numpy as np\n",
    "\n",
    "a = wrapper.Wrapper(\"discrete_tcnn1\", \n",
    "            \"data/discrete_tcnn1/model.ckpt-126001.bestmodel\",\n",
    "            1, is_lstm=True)"
   ]
  },
  {
   "cell_type": "code",
   "execution_count": 2,
   "metadata": {},
   "outputs": [
    {
     "name": "stdout",
     "output_type": "stream",
     "text": [
      "0\n"
     ]
    }
   ],
   "source": [
    "example = example_pb2.Example()\n",
    "in_file = \"/data/yang_cache/tfrecord_release/tfrecords/validation/ca737ec3-53cd36e2.tfrecords\"\n",
    "\n",
    "count = 0\n",
    "for example_serialized in tf.python_io.tf_record_iterator(in_file):\n",
    "    example.ParseFromString(example_serialized)\n",
    "    feature_map = example.features.feature\n",
    "    encoded = feature_map['image/encoded'].bytes_list.value\n",
    "    print count\n",
    "    count += 1"
   ]
  },
  {
   "cell_type": "code",
   "execution_count": null,
   "metadata": {},
   "outputs": [],
   "source": [
    "file_jpgdata = StringIO(encoded[0])\n",
    "dt = Image.open(file_jpgdata)\n",
    "imshow(np.asarray(dt))\n",
    "print a.observe_a_frame(np.asarray(dt))"
   ]
  },
  {
   "cell_type": "code",
   "execution_count": null,
   "metadata": {},
   "outputs": [],
   "source": [
    "for i in range(len(encoded)):\n",
    "    if i % 5 == 0:\n",
    "        file_jpgdata = StringIO(encoded[0])\n",
    "        dt = Image.open(file_jpgdata)\n",
    "        arr = np.asarray(dt)\n",
    "        out = a.observe_a_frame(arr)\n",
    "        print out\n",
    "        print i/5"
   ]
  }
 ],
 "metadata": {
  "kernelspec": {
   "display_name": "Python [default]",
   "language": "python",
   "name": "python2"
  },
  "language_info": {
   "codemirror_mode": {
    "name": "ipython",
    "version": 2
   },
   "file_extension": ".py",
   "mimetype": "text/x-python",
   "name": "python",
   "nbconvert_exporter": "python",
   "pygments_lexer": "ipython2",
   "version": "2.7.13"
  }
 },
 "nbformat": 4,
 "nbformat_minor": 1
}
